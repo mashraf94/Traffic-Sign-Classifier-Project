{
 "cells": [
  {
   "cell_type": "markdown",
   "metadata": {},
   "source": [
    "# Self-Driving Car Engineer Nanodegree\n",
    "\n",
    "## Deep Learning\n",
    "\n",
    "## Project: Build a Traffic Sign Recognition Classifier\n",
    "\n",
    "In this notebook, a template is provided for you to implement your functionality in stages, which is required to successfully complete this project. If additional code is required that cannot be included in the notebook, be sure that the Python code is successfully imported and included in your submission if necessary. \n",
    "\n",
    "> **Note**: Once you have completed all of the code implementations, you need to finalize your work by exporting the iPython Notebook as an HTML document. Before exporting the notebook to html, all of the code cells need to have been run so that reviewers can see the final implementation and output. You can then export the notebook by using the menu above and navigating to  \\n\",\n",
    "    \"**File -> Download as -> HTML (.html)**. Include the finished document along with this notebook as your submission. \n",
    "\n",
    "In addition to implementing code, there is a writeup to complete. The writeup should be completed in a separate file, which can be either a markdown file or a pdf document. There is a [write up template](https://github.com/udacity/CarND-Traffic-Sign-Classifier-Project/blob/master/writeup_template.md) that can be used to guide the writing process. Completing the code template and writeup template will cover all of the [rubric points](https://review.udacity.com/#!/rubrics/481/view) for this project.\n",
    "\n",
    "The [rubric](https://review.udacity.com/#!/rubrics/481/view) contains \"Stand Out Suggestions\" for enhancing the project beyond the minimum requirements. The stand out suggestions are optional. If you decide to pursue the \"stand out suggestions\", you can include the code in this Ipython notebook and also discuss the results in the writeup file.\n",
    "\n",
    "\n",
    ">**Note:** Code and Markdown cells can be executed using the **Shift + Enter** keyboard shortcut. In addition, Markdown cells can be edited by typically double-clicking the cell to enter edit mode."
   ]
  },
  {
   "cell_type": "code",
   "execution_count": 1,
   "metadata": {},
   "outputs": [
    {
     "data": {
      "text/plain": [
       "'/Users/mac/CarND-Traffic-Sign-Classifier-Project/Traffic-Sign-Classifier-Project'"
      ]
     },
     "execution_count": 1,
     "metadata": {},
     "output_type": "execute_result"
    }
   ],
   "source": [
    "import os\n",
    "\n",
    "os.getcwd()"
   ]
  },
  {
   "cell_type": "code",
   "execution_count": 2,
   "metadata": {},
   "outputs": [
    {
     "name": "stdout",
     "output_type": "stream",
     "text": [
      "Labels Dictionary Created\n"
     ]
    }
   ],
   "source": [
    "import csv\n",
    "\n",
    "with open('signnames.csv', 'r') as csvfile:\n",
    "    reader = csv.reader(csvfile)\n",
    "    labels_dict= {x: y for x,y in reader}\n",
    "    \n",
    "labels_dict.pop('ClassId')\n",
    "\n",
    "print('Labels Dictionary Created')"
   ]
  },
  {
   "cell_type": "markdown",
   "metadata": {},
   "source": [
    "---\n",
    "## Step 0: Load The Data"
   ]
  },
  {
   "cell_type": "code",
   "execution_count": 3,
   "metadata": {
    "collapsed": true
   },
   "outputs": [],
   "source": [
    "# Load pickled data\n",
    "import pickle\n",
    "\n",
    "# TODO: Fill this in based on where you saved the training and testing data\n",
    "\n",
    "training_file = './traffic-signs-data/train.p'\n",
    "validation_file='./traffic-signs-data/valid.p'\n",
    "testing_file = './traffic-signs-data/test.p'\n",
    "\n",
    "with open(training_file, mode='rb') as f:\n",
    "    train = pickle.load(f)\n",
    "with open(validation_file, mode='rb') as f:\n",
    "    valid = pickle.load(f)\n",
    "with open(testing_file, mode='rb') as f:\n",
    "    test = pickle.load(f)\n",
    "    \n",
    "X_train, y_train = train['features'], train['labels']\n",
    "X_valid, y_valid = valid['features'], valid['labels']\n",
    "X_test, y_test = test['features'], test['labels']"
   ]
  },
  {
   "cell_type": "markdown",
   "metadata": {},
   "source": [
    "---\n",
    "\n",
    "## Step 1: Dataset Summary & Exploration\n",
    "\n",
    "The pickled data is a dictionary with 4 key/value pairs:\n",
    "\n",
    "- `'features'` is a 4D array containing raw pixel data of the traffic sign images, (num examples, width, height, channels).\n",
    "- `'labels'` is a 1D array containing the label/class id of the traffic sign. The file `signnames.csv` contains id -> name mappings for each id.\n",
    "- `'sizes'` is a list containing tuples, (width, height) representing the original width and height the image.\n",
    "- `'coords'` is a list containing tuples, (x1, y1, x2, y2) representing coordinates of a bounding box around the sign in the image. **THESE COORDINATES ASSUME THE ORIGINAL IMAGE. THE PICKLED DATA CONTAINS RESIZED VERSIONS (32 by 32) OF THESE IMAGES**\n",
    "\n",
    "Complete the basic data summary below. Use python, numpy and/or pandas methods to calculate the data summary rather than hard coding the results. For example, the [pandas shape method](http://pandas.pydata.org/pandas-docs/stable/generated/pandas.DataFrame.shape.html) might be useful for calculating some of the summary results. "
   ]
  },
  {
   "cell_type": "markdown",
   "metadata": {},
   "source": [
    "### Provide a Basic Summary of the Data Set Using Python, Numpy and/or Pandas"
   ]
  },
  {
   "cell_type": "code",
   "execution_count": 4,
   "metadata": {},
   "outputs": [
    {
     "name": "stdout",
     "output_type": "stream",
     "text": [
      "Number of training examples = 34799\n",
      "Number of validation examples = 4410\n",
      "Number of testing examples = 12630\n",
      "Image data shape = (32, 32, 3)\n",
      "Number of classes = 43\n"
     ]
    }
   ],
   "source": [
    "### Replace each question mark with the appropriate value. \n",
    "### Use python, pandas or numpy methods rather than hard coding the results\n",
    "\n",
    "# TODO: Number of training examples\n",
    "n_train = X_train.shape[0]\n",
    "\n",
    "# TODO: Number of validation examples\n",
    "n_validation = X_valid.shape[0]\n",
    "\n",
    "# TODO: Number of testing examples.\n",
    "n_test = X_test.shape[0]\n",
    "\n",
    "# TODO: What's the shape of an traffic sign image?\n",
    "image_shape = X_train[0].shape\n",
    "\n",
    "# TODO: How many unique classes/labels there are in the dataset.\n",
    "n_classes = len(set(y_train))\n",
    "\n",
    "print(\"Number of training examples =\", n_train)\n",
    "print(\"Number of validation examples =\", n_validation)\n",
    "print(\"Number of testing examples =\", n_test)\n",
    "print(\"Image data shape =\", image_shape)\n",
    "print(\"Number of classes =\", n_classes)"
   ]
  },
  {
   "cell_type": "markdown",
   "metadata": {},
   "source": [
    "### Include an exploratory visualization of the dataset"
   ]
  },
  {
   "cell_type": "markdown",
   "metadata": {},
   "source": [
    "Visualize the German Traffic Signs Dataset using the pickled file(s). This is open ended, suggestions include: plotting traffic sign images, plotting the count of each sign, etc. \n",
    "\n",
    "The [Matplotlib](http://matplotlib.org/) [examples](http://matplotlib.org/examples/index.html) and [gallery](http://matplotlib.org/gallery.html) pages are a great resource for doing visualizations in Python.\n",
    "\n",
    "**NOTE:** It's recommended you start with something simple first. If you wish to do more, come back to it after you've completed the rest of the sections. It can be interesting to look at the distribution of classes in the training, validation and test set. Is the distribution the same? Are there more examples of some classes than others?"
   ]
  },
  {
   "cell_type": "code",
   "execution_count": 5,
   "metadata": {},
   "outputs": [
    {
     "name": "stdout",
     "output_type": "stream",
     "text": [
      "Sample Image\n",
      "Label # 13\tYield\n"
     ]
    },
    {
     "data": {
      "text/plain": [
       "<matplotlib.image.AxesImage at 0x120095780>"
      ]
     },
     "execution_count": 5,
     "metadata": {},
     "output_type": "execute_result"
    },
    {
     "data": {
      "image/png": "[encoded data removed]",
      "text/plain": [
       "<matplotlib.figure.Figure at 0x102d06748>"
      ]
     },
     "metadata": {},
     "output_type": "display_data"
    }
   ],
   "source": [
    "### Data exploration visualization code goes here.\n",
    "### Feel free to use as many code cells as needed.\n",
    "import matplotlib.pyplot as plt\n",
    "import random\n",
    "# Visualizations will be shown in the notebook.\n",
    "%matplotlib inline\n",
    "\n",
    "index = random.randint(0,n_train)\n",
    "sample = X_train[index]\n",
    "sample_label = y_train[index]\n",
    "print('Sample Image\\nLabel # {}\\t{}'.format(sample_label,labels_dict[str(sample_label)]))\n",
    "plt.imshow(sample)"
   ]
  },
  {
   "cell_type": "markdown",
   "metadata": {},
   "source": [
    "----\n",
    "\n",
    "## Step 2: Design and Test a Model Architecture\n",
    "\n",
    "Design and implement a deep learning model that learns to recognize traffic signs. Train and test your model on the [German Traffic Sign Dataset](http://benchmark.ini.rub.de/?section=gtsrb&subsection=dataset).\n",
    "\n",
    "The LeNet-5 implementation shown in the [classroom](https://classroom.udacity.com/nanodegrees/nd013/parts/fbf77062-5703-404e-b60c-95b78b2f3f9e/modules/6df7ae49-c61c-4bb2-a23e-6527e69209ec/lessons/601ae704-1035-4287-8b11-e2c2716217ad/concepts/d4aca031-508f-4e0b-b493-e7b706120f81) at the end of the CNN lesson is a solid starting point. You'll have to change the number of classes and possibly the preprocessing, but aside from that it's plug and play! \n",
    "\n",
    "With the LeNet-5 solution from the lecture, you should expect a validation set accuracy of about 0.89. To meet specifications, the validation set accuracy will need to be at least 0.93. It is possible to get an even higher accuracy, but 0.93 is the minimum for a successful project submission. \n",
    "\n",
    "There are various aspects to consider when thinking about this problem:\n",
    "\n",
    "- Neural network architecture (is the network over or underfitting?)\n",
    "- Play around preprocessing techniques (normalization, rgb to grayscale, etc)\n",
    "- Number of examples per label (some have more than others).\n",
    "- Generate fake data.\n",
    "\n",
    "Here is an example of a [published baseline model on this problem](http://yann.lecun.com/exdb/publis/pdf/sermanet-ijcnn-11.pdf). It's not required to be familiar with the approach used in the paper but, it's good practice to try to read papers like these."
   ]
  },
  {
   "cell_type": "markdown",
   "metadata": {},
   "source": [
    "### Pre-process the Data Set (normalization, grayscale, etc.)"
   ]
  },
  {
   "cell_type": "markdown",
   "metadata": {},
   "source": [
    "Minimally, the image data should be normalized so that the data has mean zero and equal variance. For image data, `(pixel - 128)/ 128` is a quick way to approximately normalize the data and can be used in this project. \n",
    "\n",
    "Other pre-processing steps are optional. You can try different techniques to see if it improves performance. \n",
    "\n",
    "Use the code cell (or multiple code cells, if necessary) to implement the first step of your project."
   ]
  },
  {
   "cell_type": "code",
   "execution_count": 6,
   "metadata": {
    "collapsed": true
   },
   "outputs": [],
   "source": [
    "### Preprocess the data here. It is required to normalize the data. \n",
    "### Other preprocessing steps could include: \n",
    "### converting to grayscale, etc.\n",
    "### Feel free to use as many code cells as needed.\n",
    "import numpy as np\n",
    "import cv2\n",
    "\n",
    "##GrayScale\n",
    "def grayscale(X):\n",
    "    X_gray = np.zeros([X.shape[0],32,32,1])\n",
    "    for i in range(X.shape[0]):\n",
    "        img = cv2.cvtColor(X[i], cv2.COLOR_RGB2GRAY)\n",
    "        img = cv2.equalizeHist(img)\n",
    "        X_gray[i] = np.expand_dims(img, axis=2)\n",
    "    return X_gray\n",
    "\n",
    "##Normalize with Min-Max\n",
    "def normalize(X):\n",
    "    X_norm = np.zeros_like(X, dtype=np.float32)\n",
    "    for i in range(X.shape[0]):\n",
    "        X_norm[i] = cv2.normalize(X[i], X_norm[i], \n",
    "                                      alpha=-1., beta=1., \n",
    "                                      norm_type=cv2.NORM_MINMAX, \n",
    "                                      dtype=cv2.CV_32F)\n",
    "    return X_norm"
   ]
  },
  {
   "cell_type": "code",
   "execution_count": 7,
   "metadata": {
    "collapsed": true
   },
   "outputs": [],
   "source": [
    "#GrayScale and Normalize Training Set\n",
    "X_gray = grayscale(X_train)\n",
    "X_norm = normalize(X_gray)\n",
    "\n",
    "#GrayScale and Normalize Validation Set\n",
    "X_valid_gray = grayscale(X_valid)\n",
    "X_valid_gray = normalize(X_valid_gray)\n",
    "\n",
    "#GrayScale and Normalize Test Set\n",
    "X_test_gray = grayscale(X_test)\n",
    "X_test_gray = normalize(X_test_gray)"
   ]
  },
  {
   "cell_type": "code",
   "execution_count": 8,
   "metadata": {},
   "outputs": [
    {
     "data": {
      "text/plain": [
       "<matplotlib.image.AxesImage at 0x141830a58>"
      ]
     },
     "execution_count": 8,
     "metadata": {},
     "output_type": "execute_result"
    },
    {
     "data": {
      "image/png": "[encoded data removed]",
      "text/plain": [
       "<matplotlib.figure.Figure at 0x102cf3b00>"
      ]
     },
     "metadata": {},
     "output_type": "display_data"
    }
   ],
   "source": [
    "plt.imshow(X_train[1020])"
   ]
  },
  {
   "cell_type": "code",
   "execution_count": 9,
   "metadata": {},
   "outputs": [
    {
     "data": {
      "text/plain": [
       "<matplotlib.image.AxesImage at 0x141865ac8>"
      ]
     },
     "execution_count": 9,
     "metadata": {},
     "output_type": "execute_result"
    },
    {
     "data": {
      "image/png": "[encoded data removed]",
      "text/plain": [
       "<matplotlib.figure.Figure at 0x1200e17b8>"
      ]
     },
     "metadata": {},
     "output_type": "display_data"
    }
   ],
   "source": [
    "plt.imshow(X_norm[1020].reshape(32,32), cmap='gray')"
   ]
  },
  {
   "cell_type": "code",
   "execution_count": 10,
   "metadata": {
    "collapsed": true
   },
   "outputs": [],
   "source": [
    "#Shuffle\n",
    "from sklearn.utils import shuffle\n",
    "\n",
    "X_train_S, y_train_S = shuffle(X_norm, y_train)"
   ]
  },
  {
   "cell_type": "markdown",
   "metadata": {},
   "source": [
    "### Model Architecture"
   ]
  },
  {
   "cell_type": "code",
   "execution_count": 11,
   "metadata": {
    "collapsed": true
   },
   "outputs": [],
   "source": [
    "### Define your architecture here.\n",
    "### Feel free to use as many code cells as needed.\n",
    "import tensorflow as tf\n",
    "\n",
    "tf.reset_default_graph()\n",
    "\n",
    "#Model Parameters Set\n",
    "EPOCHS = 15\n",
    "BATCH_SIZE = 128\n",
    "learn_rate = 0.001\n",
    "mean = 0.\n",
    "standard_dev = 0.1\n",
    "dropout = 0.5"
   ]
  },
  {
   "cell_type": "code",
   "execution_count": 12,
   "metadata": {
    "collapsed": true
   },
   "outputs": [],
   "source": [
    "#Placeholders for Network\n",
    "features = tf.placeholder(tf.float32, [None, 32,32,1])  #GrayScale\n",
    "y = tf.placeholder(tf.int32, [None])\n",
    "labels = tf.one_hot(y, n_classes)\n",
    "keep_prob = tf.placeholder(tf.float32)"
   ]
  },
  {
   "cell_type": "code",
   "execution_count": 13,
   "metadata": {
    "collapsed": true
   },
   "outputs": [],
   "source": [
    "#Function for Initializing Random TF Variables\n",
    "def trun_var(dim=[], mean=mean, std=standard_dev, name=None):\n",
    "    return tf.Variable(tf.truncated_normal(dim, mean=mean, stddev=std), name=name)"
   ]
  },
  {
   "cell_type": "code",
   "execution_count": 14,
   "metadata": {
    "collapsed": true
   },
   "outputs": [],
   "source": [
    "#Initializing Weights and Biases\n",
    "weights = {    'conv1': trun_var([5,5,1,6], name='weights_conv1'),\n",
    "               'conv2': trun_var([5,5,6,16], name='weights_conv2'),\n",
    "               'full_1': trun_var([400,120], name='weights_full_1'),\n",
    "               'full_2': trun_var([120,83], name='weights_full_2'),\n",
    "               'out': trun_var([83, n_classes], name='weights_out')}\n",
    "    \n",
    "biases = {     'conv1': trun_var([6], name='biases_conv1'),\n",
    "               'conv2': trun_var([16], name='biases_conv2'),\n",
    "               'full_1': trun_var([120], name='biases_full_1'),\n",
    "               'full_2': trun_var([83], name='biases_full_2'),\n",
    "               'out': trun_var([n_classes], name='biases_out')}\n",
    "    \n",
    "#LeNet CNN Model Implementation\n",
    "\n",
    "    \n",
    "#Convolutional Layer 1\n",
    "#INPUT 32x32x1\n",
    "conv1 = tf.nn.conv2d(features, weights['conv1'], strides=[1,1,1,1], padding='VALID') \n",
    "#28x28x6\n",
    "conv1 = tf.nn.bias_add(conv1, biases['conv1'])\n",
    "conv1 = tf.nn.relu(conv1)\n",
    "conv1 = tf.nn.max_pool(conv1, ksize=[1,2,2,1], strides=[1,2,2,1], padding='SAME')    \n",
    "#14x14x6\n",
    "    \n",
    "#Convolutional Layer 2\n",
    "conv2_filter = tf.nn.conv2d(conv1, weights['conv2'], strides=[1,1,1,1], padding='VALID')\n",
    "#10x10x16\n",
    "conv2_bias = tf.nn.bias_add(conv2_filter, biases['conv2'])\n",
    "conv2_relu = tf.nn.relu(conv2_bias)\n",
    "conv2 = tf.nn.max_pool(conv2_relu, ksize=[1,2,2,1], strides=[1,2,2,1], padding='SAME')    \n",
    "#5x5x16\n",
    "    \n",
    "#Flatten\n",
    "conv2 = tf.contrib.layers.flatten(conv2)\n",
    "    \n",
    "#Fully Connected Layer 1\n",
    "full_1 = tf.add(tf.matmul(conv2, weights['full_1']), biases['full_1'])    \n",
    "#120\n",
    "full_1 = tf.nn.relu(full_1)\n",
    "full_1 = tf.nn.dropout(full_1, keep_prob)\n",
    "    \n",
    "#Fully Connected Layer 2\n",
    "full_2 = tf.add(tf.matmul(full_1, weights['full_2']), biases['full_2'])    \n",
    "#83\n",
    "full_2 = tf.nn.relu(full_2)\n",
    "full_2 = tf.nn.dropout(full_2, keep_prob)\n",
    "    \n",
    "#Output Layer\n",
    "logits = tf.add(tf.matmul(full_2, weights['out']), biases['out'])    \n",
    "#N_CLASSES = 43"
   ]
  },
  {
   "cell_type": "code",
   "execution_count": 15,
   "metadata": {
    "collapsed": true
   },
   "outputs": [],
   "source": [
    "## Training\n",
    "\n",
    "#Cost Function\n",
    "cost = tf.nn.softmax_cross_entropy_with_logits(logits=logits, labels=labels)    \n",
    "\n",
    "#Adam Optimizer for Back Propagation\n",
    "optimizer = tf.train.AdamOptimizer(learning_rate=learn_rate).minimize(cost)    "
   ]
  },
  {
   "cell_type": "code",
   "execution_count": 16,
   "metadata": {
    "collapsed": true
   },
   "outputs": [],
   "source": [
    "## Prediction and Accuracy\n",
    "\n",
    "correct_prediction = tf.equal(tf.argmax(labels, 1), tf.argmax(logits, 1))\n",
    "\n",
    "accuracy = tf.reduce_mean(tf.cast(correct_prediction, tf.float32))"
   ]
  },
  {
   "cell_type": "markdown",
   "metadata": {},
   "source": [
    "### Train, Validate and Test the Model"
   ]
  },
  {
   "cell_type": "markdown",
   "metadata": {},
   "source": [
    "A validation set can be used to assess how well the model is performing. A low accuracy on the training and validation\n",
    "sets imply underfitting. A high accuracy on the training set but low accuracy on the validation set implies overfitting."
   ]
  },
  {
   "cell_type": "code",
   "execution_count": 17,
   "metadata": {
    "collapsed": true
   },
   "outputs": [],
   "source": [
    "### Train your model here.\n",
    "### Calculate and report the accuracy on the training and validation set.\n",
    "### Once a final model architecture is selected, \n",
    "### the accuracy on the test set should be calculated and reported as well.\n",
    "### Feel free to use as many code cells as needed.\n",
    "\n",
    "init = tf.global_variables_initializer()\n",
    "save_file = './LeNet_gray_names_15.ckpt'   #Weights for GrayScale\n",
    "# save_file = './LeNet_gray_names_15.ckpt' #Weights with Names for COLOR"
   ]
  },
  {
   "cell_type": "code",
   "execution_count": 19,
   "metadata": {
    "scrolled": false
   },
   "outputs": [
    {
     "name": "stdout",
     "output_type": "stream",
     "text": [
      "EPOCH: 1\n",
      "Validation Accuracy = 0.6517006754875183\n",
      "EPOCH: 2\n",
      "Validation Accuracy = 0.817460298538208\n",
      "EPOCH: 3\n",
      "Validation Accuracy = 0.8702948093414307\n",
      "EPOCH: 4\n",
      "Validation Accuracy = 0.8888888955116272\n",
      "EPOCH: 5\n",
      "Validation Accuracy = 0.9077097773551941\n",
      "EPOCH: 6\n",
      "Validation Accuracy = 0.915192723274231\n",
      "EPOCH: 7\n",
      "Validation Accuracy = 0.9233559966087341\n",
      "EPOCH: 8\n",
      "Validation Accuracy = 0.9335600733757019\n",
      "EPOCH: 9\n",
      "Validation Accuracy = 0.9285714030265808\n",
      "EPOCH: 10\n",
      "Validation Accuracy = 0.9405895471572876\n",
      "EPOCH: 11\n",
      "Validation Accuracy = 0.9387755393981934\n",
      "EPOCH: 12\n",
      "Validation Accuracy = 0.942630410194397\n",
      "EPOCH: 13\n",
      "Validation Accuracy = 0.9487528204917908\n",
      "EPOCH: 14\n",
      "Validation Accuracy = 0.9485260844230652\n",
      "EPOCH: 15\n",
      "Validation Accuracy = 0.9544217586517334\n"
     ]
    }
   ],
   "source": [
    "#Running LeNet and Measuring Accuracy on Validation Set\n",
    "\n",
    "with tf.Session() as sess:\n",
    "    sess.run(init)\n",
    "    \n",
    "    for epoch in range(EPOCHS):\n",
    "        for start_i in range(0,n_train,BATCH_SIZE):\n",
    "            end_i = start_i + BATCH_SIZE\n",
    "            sess.run(optimizer, feed_dict={features: X_train_S[start_i:end_i],\n",
    "                                           y: y_train_S[start_i:end_i] ,\n",
    "                                           keep_prob: dropout})\n",
    "        \n",
    "        valid_acc = sess.run(accuracy, feed_dict={features: X_valid_gray,\n",
    "                                                  y: y_valid,\n",
    "                                                  keep_prob: 1.})\n",
    "        \n",
    "        print('EPOCH: {}'.format(epoch+1))\n",
    "        print('Validation Accuracy = {}'.format(valid_acc))\n",
    "    \n",
    "    try:\n",
    "        saver\n",
    "    except:\n",
    "        saver = tf.train.Saver()\n",
    "    saver.save(sess, save_file)"
   ]
  },
  {
   "cell_type": "code",
   "execution_count": 18,
   "metadata": {},
   "outputs": [
    {
     "name": "stdout",
     "output_type": "stream",
     "text": [
      "Test Accuracy = 0.9351543941860244\n"
     ]
    }
   ],
   "source": [
    "## Test Set Accuracy\n",
    "\n",
    "with tf.Session() as sess:\n",
    "    try:\n",
    "        saver\n",
    "    except:\n",
    "        saver = tf.train.Saver()\n",
    "    saver.restore(sess, save_file)\n",
    "    total_test_acc = 0\n",
    "    for start_i in range(0, X_test_gray.shape[0], BATCH_SIZE):\n",
    "        end_i = start_i + BATCH_SIZE\n",
    "        X_batch_test, y_batch_test = X_test_gray[start_i:end_i], y_test[start_i:end_i]\n",
    "        test_acc = sess.run(accuracy, feed_dict={features: X_batch_test,\n",
    "                                                        y: y_batch_test,\n",
    "                                                keep_prob: 1.})\n",
    "        total_test_acc += test_acc * X_batch_test.shape[0]\n",
    "    \n",
    "    total_test_acc /= X_test_gray.shape[0]\n",
    "\n",
    "    print('Test Accuracy = {}'.format(total_test_acc))"
   ]
  },
  {
   "cell_type": "markdown",
   "metadata": {},
   "source": [
    "---\n",
    "\n",
    "## Step 3: Test a Model on New Images\n",
    "\n",
    "To give yourself more insight into how your model is working, download at least five pictures of German traffic signs from the web and use your model to predict the traffic sign type.\n",
    "\n",
    "You may find `signnames.csv` useful as it contains mappings from the class id (integer) to the actual sign name."
   ]
  },
  {
   "cell_type": "markdown",
   "metadata": {},
   "source": [
    "### Load and Output the Images"
   ]
  },
  {
   "cell_type": "code",
   "execution_count": 19,
   "metadata": {
    "collapsed": true
   },
   "outputs": [],
   "source": [
    "files_num = len(os.listdir('./test-images/'))-1"
   ]
  },
  {
   "cell_type": "code",
   "execution_count": 21,
   "metadata": {
    "scrolled": true
   },
   "outputs": [
    {
     "data": {
      "image/png": "[encoded data removed]",
      "text/plain": [
       "<matplotlib.figure.Figure at 0x156b57c18>"
      ]
     },
     "metadata": {},
     "output_type": "display_data"
    }
   ],
   "source": [
    "### Load the images and plot them here.\n",
    "### Feel free to use as many code cells as needed.\n",
    "test_imgs = np.zeros([files_num, 32,32,3], dtype=np.uint8)\n",
    "\n",
    "test_labels = np.array([14, 18, 25, 11, 22, 33, 1, 40, 12, 13, 31, 30, 27])\n",
    "\n",
    "#Loading and Previewing Images Downloaded from the Internet\n",
    "for i in range(test_imgs.shape[0]):\n",
    "    test_imgs[i] = cv2.imread('./test-images/trafficsign{}.jpg'.format(i))\n",
    "    test_imgs[i] = cv2.cvtColor(test_imgs[i], cv2.COLOR_BGR2RGB)\n",
    "    test_imgs_gray = normalize(grayscale(test_imgs))\n",
    "    plt.figure(1, figsize=(20,20))\n",
    "    for img in range(len(test_imgs)):\n",
    "        sub_img = plt.subplot(10,5, img+1)\n",
    "        sub_img.set_title(labels_dict[str(test_labels[img])])\n",
    "        sub_img.axis('off')\n",
    "        plt.subplots_adjust(wspace=0.2, hspace=0.5)\n",
    "        plt.imshow(test_imgs[img])"
   ]
  },
  {
   "cell_type": "markdown",
   "metadata": {},
   "source": [
    "### Predict the Sign Type for Each Image"
   ]
  },
  {
   "cell_type": "code",
   "execution_count": 22,
   "metadata": {},
   "outputs": [
    {
     "name": "stdout",
     "output_type": "stream",
     "text": [
      "Image\tPrediction\tLabel Predicted\n",
      "----------------------------------------\n",
      "0\t   14\t\t✓Stop\n",
      "1\t   18\t\t✓General caution\n",
      "2\t   25\t\t✓Road work\n",
      "3\t   11\t\t✓Right-of-way at the next intersection\n",
      "4\t   22\t\t✓Bumpy road\n",
      "5\t   33\t\t✓Turn right ahead\n",
      "6\t   1\t\t✓Speed limit (30km/h)\n",
      "7\t   40\t\t✓Roundabout mandatory\n",
      "8\t   12\t\t✓Priority road\n",
      "9\t   13\t\t✓Yield\n",
      "10\t   22\t\t❌Bumpy road\n",
      "11\t   30\t\t✓Beware of ice/snow\n",
      "12\t   27\t\t✓Pedestrians\n"
     ]
    }
   ],
   "source": [
    "### Run the predictions here and use the model \n",
    "### to output the prediction for each image.\n",
    "### Make sure to pre-process the images with the \n",
    "###            same pre-processing pipeline used earlier.\n",
    "### Feel free to use as many code cells as needed.\n",
    "import pandas as pd\n",
    "\n",
    "with tf.Session() as sess:\n",
    "    saver.restore(sess, save_file)\n",
    "    \n",
    "    results = sess.run(logits, feed_dict={features: test_imgs_gray,\n",
    "                                keep_prob: 1.})\n",
    "    results = np.argmax(results, axis=1)\n",
    "    result_dict = [str(i) for i in results]\n",
    "    print('Image\\tPrediction\\tLabel Predicted')\n",
    "    print('-'*40)\n",
    "    for i in range(len(results)):\n",
    "        if result_dict[i] == str(test_labels[i]):\n",
    "            prediction = '\\u2713'\n",
    "        else:\n",
    "            prediction = '\\u274C'\n",
    "        print('{}\\t   {}\\t\\t{}{}'\n",
    "              .format(i, results[i],prediction, labels_dict[result_dict[i]]))"
   ]
  },
  {
   "cell_type": "markdown",
   "metadata": {},
   "source": [
    "### Analyze Performance"
   ]
  },
  {
   "cell_type": "code",
   "execution_count": 23,
   "metadata": {},
   "outputs": [
    {
     "name": "stdout",
     "output_type": "stream",
     "text": [
      "Test Images Accuracy = 92.308%\n"
     ]
    }
   ],
   "source": [
    "### Calculate the accuracy for these 5 new images. \n",
    "### For example, if the model predicted 1 out of 5 signs correctly, \n",
    "### it's 20% accurate on these new images.\n",
    "\n",
    "with tf.Session() as sess:\n",
    "    saver.restore(sess, save_file)\n",
    "    \n",
    "    test_img_accuracy = sess.run(accuracy, feed_dict={features: test_imgs_gray,\n",
    "                                                      y: test_labels,\n",
    "                                                      keep_prob: 1.})\n",
    "    print('Test Images Accuracy = {:.3f}%'.format(test_img_accuracy * 100))"
   ]
  },
  {
   "cell_type": "markdown",
   "metadata": {},
   "source": [
    "### Output Top 5 Softmax Probabilities For Each Image Found on the Web"
   ]
  },
  {
   "cell_type": "markdown",
   "metadata": {},
   "source": [
    "For each of the new images, print out the model's softmax probabilities to show the **certainty** of the model's predictions (limit the output to the top 5 probabilities for each image). [`tf.nn.top_k`](https://www.tensorflow.org/versions/r0.12/api_docs/python/nn.html#top_k) could prove helpful here. \n",
    "\n",
    "The example below demonstrates how tf.nn.top_k can be used to find the top k predictions for each image.\n",
    "\n",
    "`tf.nn.top_k` will return the values and indices (class ids) of the top k predictions. So if k=3, for each sign, it'll return the 3 largest probabilities (out of a possible 43) and the correspoding class ids.\n",
    "\n",
    "Take this numpy array as an example. The values in the array represent predictions. The array contains softmax probabilities for five candidate images with six possible classes. `tk.nn.top_k` is used to choose the three classes with the highest probability:\n",
    "\n",
    "```\n",
    "# (5, 6) array\n",
    "a = np.array([[ 0.24879643,  0.07032244,  0.12641572,  0.34763842,  0.07893497,\n",
    "         0.12789202],\n",
    "       [ 0.28086119,  0.27569815,  0.08594638,  0.0178669 ,  0.18063401,\n",
    "         0.15899337],\n",
    "       [ 0.26076848,  0.23664738,  0.08020603,  0.07001922,  0.1134371 ,\n",
    "         0.23892179],\n",
    "       [ 0.11943333,  0.29198961,  0.02605103,  0.26234032,  0.1351348 ,\n",
    "         0.16505091],\n",
    "       [ 0.09561176,  0.34396535,  0.0643941 ,  0.16240774,  0.24206137,\n",
    "         0.09155967]])\n",
    "```\n",
    "\n",
    "Running it through `sess.run(tf.nn.top_k(tf.constant(a), k=3))` produces:\n",
    "\n",
    "```\n",
    "TopKV2(values=array([[ 0.34763842,  0.24879643,  0.12789202],\n",
    "       [ 0.28086119,  0.27569815,  0.18063401],\n",
    "       [ 0.26076848,  0.23892179,  0.23664738],\n",
    "       [ 0.29198961,  0.26234032,  0.16505091],\n",
    "       [ 0.34396535,  0.24206137,  0.16240774]]), indices=array([[3, 0, 5],\n",
    "       [0, 1, 4],\n",
    "       [0, 5, 1],\n",
    "       [1, 3, 5],\n",
    "       [1, 4, 3]], dtype=int32))\n",
    "```\n",
    "\n",
    "Looking just at the first row we get `[ 0.34763842,  0.24879643,  0.12789202]`, you can confirm these are the 3 largest probabilities in `a`. You'll also notice `[3, 0, 5]` are the corresponding indices."
   ]
  },
  {
   "cell_type": "code",
   "execution_count": 24,
   "metadata": {},
   "outputs": [
    {
     "name": "stdout",
     "output_type": "stream",
     "text": [
      "Top 5 Probabilites\n",
      "[[  9.88516e-01   2.30649e-03   1.88473e-03   1.86310e-03   1.26693e-03]\n",
      " [  9.98160e-01   1.24726e-03   5.86999e-04   5.41087e-06   5.96297e-08]\n",
      " [  9.83891e-01   4.68036e-03   4.48848e-03   3.93070e-03   2.79469e-03]\n",
      " [  9.83671e-01   1.58092e-02   3.91526e-04   9.33847e-05   3.13089e-05]\n",
      " [  9.93305e-01   6.31483e-03   2.10705e-04   9.54587e-05   3.40205e-05]\n",
      " [  9.68048e-01   2.15881e-02   2.19240e-03   1.60021e-03   1.47052e-03]\n",
      " [  9.72511e-01   2.36249e-02   3.50582e-03   2.92685e-04   2.57356e-05]\n",
      " [  8.56425e-01   1.15699e-01   1.30264e-02   7.21028e-03   3.21296e-03]\n",
      " [  9.99984e-01   1.54820e-05   4.09780e-07   3.08537e-08   1.93015e-08]\n",
      " [  1.00000e+00   2.32251e-10   1.38835e-15   3.13608e-16   8.87276e-17]\n",
      " [  6.59242e-01   1.92340e-01   4.92091e-02   4.72197e-02   4.06294e-02]\n",
      " [  9.21510e-01   6.77316e-02   5.68246e-03   4.72241e-03   1.79463e-04]\n",
      " [  8.12275e-01   1.30983e-01   2.63286e-02   1.51958e-02   3.90903e-03]]\n",
      "\n",
      "Top 5 Indices\n",
      "[[14 17 33 15  8]\n",
      " [18 26 27 24 25]\n",
      " [25 22 31 29 24]\n",
      " [11 30 28 21 27]\n",
      " [22 29 26 28 17]\n",
      " [33 35 39 29  3]\n",
      " [ 1  0  4  2  7]\n",
      " [40 12 42 32 41]\n",
      " [12 40 32 18 41]\n",
      " [13 15 12 35  9]\n",
      " [22 29 20 30 31]\n",
      " [30 11 23 28 21]\n",
      " [27 24 18 20 26]]\n"
     ]
    }
   ],
   "source": [
    "### Print out the top five softmax probabilities for the predictions,\n",
    "### on the German traffic sign images found on the web. \n",
    "### Feel free to use as many code cells as needed.\n",
    "\n",
    "softmax = tf.nn.softmax(logits)\n",
    "top_5 = tf.nn.top_k(softmax, k=5)\n",
    "np.set_printoptions(precision=5)\n",
    "\n",
    "highest = []\n",
    "correct = []\n",
    "for i in result_dict:\n",
    "    highest.append(labels_dict[i])\n",
    "for i in test_labels:\n",
    "    correct.append(labels_dict[str(i)])\n",
    "    \n",
    "    \n",
    "with tf.Session() as sess:\n",
    "    saver.restore(sess, save_file)\n",
    "    results, results_index = sess.run(top_5, feed_dict={features: test_imgs_gray,\n",
    "                                keep_prob: 1.})\n",
    "    sched = pd.DataFrame(results*100, columns=(np.arange(5)+1), index=highest)\n",
    "    print('Top 5 Probabilites\\n{}'.format(results))\n",
    "    print('\\nTop 5 Indices\\n{}'.format(results_index))\n",
    "    "
   ]
  },
  {
   "cell_type": "code",
   "execution_count": 26,
   "metadata": {},
   "outputs": [
    {
     "name": "stdout",
     "output_type": "stream",
     "text": [
      "Table Showing Highest Five Percentages / Test Image       \n",
      "#Labels shown represent the highest prediction\n"
     ]
    },
    {
     "data": {
      "text/html": [
       "<div>\n",
       "<style>\n",
       "    .dataframe thead tr:only-child th {\n",
       "        text-align: right;\n",
       "    }\n",
       "\n",
       "    .dataframe thead th {\n",
       "        text-align: left;\n",
       "    }\n",
       "\n",
       "    .dataframe tbody tr th {\n",
       "        vertical-align: top;\n",
       "    }\n",
       "</style>\n",
       "<table border=\"1\" class=\"dataframe\">\n",
       "  <thead>\n",
       "    <tr style=\"text-align: right;\">\n",
       "      <th></th>\n",
       "      <th>1</th>\n",
       "      <th>2</th>\n",
       "      <th>3</th>\n",
       "      <th>4</th>\n",
       "      <th>5</th>\n",
       "    </tr>\n",
       "  </thead>\n",
       "  <tbody>\n",
       "    <tr>\n",
       "      <th>Stop</th>\n",
       "      <td>98.852 %</td>\n",
       "      <td>0.231 %</td>\n",
       "      <td>0.188 %</td>\n",
       "      <td>0.186 %</td>\n",
       "      <td>0.127 %</td>\n",
       "    </tr>\n",
       "    <tr>\n",
       "      <th>General caution</th>\n",
       "      <td>99.816 %</td>\n",
       "      <td>0.125 %</td>\n",
       "      <td>0.059 %</td>\n",
       "      <td>0.001 %</td>\n",
       "      <td>0.000 %</td>\n",
       "    </tr>\n",
       "    <tr>\n",
       "      <th>Road work</th>\n",
       "      <td>98.389 %</td>\n",
       "      <td>0.468 %</td>\n",
       "      <td>0.449 %</td>\n",
       "      <td>0.393 %</td>\n",
       "      <td>0.279 %</td>\n",
       "    </tr>\n",
       "    <tr>\n",
       "      <th>Right-of-way at the next intersection</th>\n",
       "      <td>98.367 %</td>\n",
       "      <td>1.581 %</td>\n",
       "      <td>0.039 %</td>\n",
       "      <td>0.009 %</td>\n",
       "      <td>0.003 %</td>\n",
       "    </tr>\n",
       "    <tr>\n",
       "      <th>Bumpy road</th>\n",
       "      <td>99.331 %</td>\n",
       "      <td>0.631 %</td>\n",
       "      <td>0.021 %</td>\n",
       "      <td>0.010 %</td>\n",
       "      <td>0.003 %</td>\n",
       "    </tr>\n",
       "    <tr>\n",
       "      <th>Turn right ahead</th>\n",
       "      <td>96.805 %</td>\n",
       "      <td>2.159 %</td>\n",
       "      <td>0.219 %</td>\n",
       "      <td>0.160 %</td>\n",
       "      <td>0.147 %</td>\n",
       "    </tr>\n",
       "    <tr>\n",
       "      <th>Speed limit (30km/h)</th>\n",
       "      <td>97.251 %</td>\n",
       "      <td>2.362 %</td>\n",
       "      <td>0.351 %</td>\n",
       "      <td>0.029 %</td>\n",
       "      <td>0.003 %</td>\n",
       "    </tr>\n",
       "    <tr>\n",
       "      <th>Roundabout mandatory</th>\n",
       "      <td>85.642 %</td>\n",
       "      <td>11.570 %</td>\n",
       "      <td>1.303 %</td>\n",
       "      <td>0.721 %</td>\n",
       "      <td>0.321 %</td>\n",
       "    </tr>\n",
       "    <tr>\n",
       "      <th>Priority road</th>\n",
       "      <td>99.998 %</td>\n",
       "      <td>0.002 %</td>\n",
       "      <td>0.000 %</td>\n",
       "      <td>0.000 %</td>\n",
       "      <td>0.000 %</td>\n",
       "    </tr>\n",
       "    <tr>\n",
       "      <th>Yield</th>\n",
       "      <td>100.000 %</td>\n",
       "      <td>0.000 %</td>\n",
       "      <td>0.000 %</td>\n",
       "      <td>0.000 %</td>\n",
       "      <td>0.000 %</td>\n",
       "    </tr>\n",
       "    <tr>\n",
       "      <th>Bumpy road</th>\n",
       "      <td>65.924 %</td>\n",
       "      <td>19.234 %</td>\n",
       "      <td>4.921 %</td>\n",
       "      <td>4.722 %</td>\n",
       "      <td>4.063 %</td>\n",
       "    </tr>\n",
       "    <tr>\n",
       "      <th>Beware of ice/snow</th>\n",
       "      <td>92.151 %</td>\n",
       "      <td>6.773 %</td>\n",
       "      <td>0.568 %</td>\n",
       "      <td>0.472 %</td>\n",
       "      <td>0.018 %</td>\n",
       "    </tr>\n",
       "    <tr>\n",
       "      <th>Pedestrians</th>\n",
       "      <td>81.228 %</td>\n",
       "      <td>13.098 %</td>\n",
       "      <td>2.633 %</td>\n",
       "      <td>1.520 %</td>\n",
       "      <td>0.391 %</td>\n",
       "    </tr>\n",
       "  </tbody>\n",
       "</table>\n",
       "</div>"
      ],
      "text/plain": [
       "                                              1        2       3       4  \\\n",
       "Stop                                   98.852 %  0.231 % 0.188 % 0.186 %   \n",
       "General caution                        99.816 %  0.125 % 0.059 % 0.001 %   \n",
       "Road work                              98.389 %  0.468 % 0.449 % 0.393 %   \n",
       "Right-of-way at the next intersection  98.367 %  1.581 % 0.039 % 0.009 %   \n",
       "Bumpy road                             99.331 %  0.631 % 0.021 % 0.010 %   \n",
       "Turn right ahead                       96.805 %  2.159 % 0.219 % 0.160 %   \n",
       "Speed limit (30km/h)                   97.251 %  2.362 % 0.351 % 0.029 %   \n",
       "Roundabout mandatory                   85.642 % 11.570 % 1.303 % 0.721 %   \n",
       "Priority road                          99.998 %  0.002 % 0.000 % 0.000 %   \n",
       "Yield                                 100.000 %  0.000 % 0.000 % 0.000 %   \n",
       "Bumpy road                             65.924 % 19.234 % 4.921 % 4.722 %   \n",
       "Beware of ice/snow                     92.151 %  6.773 % 0.568 % 0.472 %   \n",
       "Pedestrians                            81.228 % 13.098 % 2.633 % 1.520 %   \n",
       "\n",
       "                                            5  \n",
       "Stop                                  0.127 %  \n",
       "General caution                       0.000 %  \n",
       "Road work                             0.279 %  \n",
       "Right-of-way at the next intersection 0.003 %  \n",
       "Bumpy road                            0.003 %  \n",
       "Turn right ahead                      0.147 %  \n",
       "Speed limit (30km/h)                  0.003 %  \n",
       "Roundabout mandatory                  0.321 %  \n",
       "Priority road                         0.000 %  \n",
       "Yield                                 0.000 %  \n",
       "Bumpy road                            4.063 %  \n",
       "Beware of ice/snow                    0.018 %  \n",
       "Pedestrians                           0.391 %  "
      ]
     },
     "execution_count": 26,
     "metadata": {},
     "output_type": "execute_result"
    }
   ],
   "source": [
    "print('Table Showing Highest Five Percentages / Test Image \\\n",
    "      \\n#Labels shown represent the highest prediction')\n",
    "pd.options.display.float_format = '{:,.3f} %'.format\n",
    "sched"
   ]
  },
  {
   "cell_type": "markdown",
   "metadata": {},
   "source": [
    "### Project Writeup\n",
    "\n",
    "Once you have completed the code implementation, document your results in a project writeup using this [template](https://github.com/udacity/CarND-Traffic-Sign-Classifier-Project/blob/master/writeup_template.md) as a guide. The writeup can be in a markdown or pdf file. "
   ]
  },
  {
   "cell_type": "markdown",
   "metadata": {},
   "source": [
    "> **Note**: Once you have completed all of the code implementations and successfully answered each question above, you may finalize your work by exporting the iPython Notebook as an HTML document. You can do this by using the menu above and navigating to  \\n\",\n",
    "    \"**File -> Download as -> HTML (.html)**. Include the finished document along with this notebook as your submission."
   ]
  },
  {
   "cell_type": "markdown",
   "metadata": {},
   "source": [
    "---\n",
    "\n",
    "## Step 4 (Optional): Visualize the Neural Network's State with Test Images\n",
    "\n",
    " This Section is not required to complete but acts as an additional excersise for understaning the output of a neural network's weights. While neural networks can be a great learning device they are often referred to as a black box. We can understand what the weights of a neural network look like better by plotting their feature maps. After successfully training your neural network you can see what it's feature maps look like by plotting the output of the network's weight layers in response to a test stimuli image. From these plotted feature maps, it's possible to see what characteristics of an image the network finds interesting. For a sign, maybe the inner network feature maps react with high activation to the sign's boundary outline or to the contrast in the sign's painted symbol.\n",
    "\n",
    " Provided for you below is the function code that allows you to get the visualization output of any tensorflow weight layer you want. The inputs to the function should be a stimuli image, one used during training or a new one you provided, and then the tensorflow variable name that represents the layer's state during the training process, for instance if you wanted to see what the [LeNet lab's](https://classroom.udacity.com/nanodegrees/nd013/parts/fbf77062-5703-404e-b60c-95b78b2f3f9e/modules/6df7ae49-c61c-4bb2-a23e-6527e69209ec/lessons/601ae704-1035-4287-8b11-e2c2716217ad/concepts/d4aca031-508f-4e0b-b493-e7b706120f81) feature maps looked like for it's second convolutional layer you could enter conv2 as the tf_activation variable.\n",
    "\n",
    "For an example of what feature map outputs look like, check out NVIDIA's results in their paper [End-to-End Deep Learning for Self-Driving Cars](https://devblogs.nvidia.com/parallelforall/deep-learning-self-driving-cars/) in the section Visualization of internal CNN State. NVIDIA was able to show that their network's inner weights had high activations to road boundary lines by comparing feature maps from an image with a clear path to one without. Try experimenting with a similar test to show that your trained network's weights are looking for interesting features, whether it's looking at differences in feature maps from images with or without a sign, or even what feature maps look like in a trained network vs a completely untrained one on the same sign image.\n",
    "\n",
    "<figure>\n",
    " <img src=\"visualize_cnn.png\" width=\"380\" alt=\"Combined Image\" />\n",
    " <figcaption>\n",
    " <p></p> \n",
    " <p style=\"text-align: center;\"> Your output should look something like this (above)</p> \n",
    " </figcaption>\n",
    "</figure>\n",
    " <p></p> \n"
   ]
  },
  {
   "cell_type": "code",
   "execution_count": 117,
   "metadata": {
    "collapsed": true,
    "scrolled": true
   },
   "outputs": [],
   "source": [
    "### Visualize your network's feature maps here.\n",
    "### Feel free to use as many code cells as needed.\n",
    "\n",
    "# image_input: the test image being fed into the network to produce the feature maps\n",
    "# tf_activation: should be a tf variable name used during your training procedure \n",
    "#                that represents the calculated state of a specific weight layer\n",
    "# activation_min/max: can be used to view the activation contrast in more detail,\n",
    "#     by default matplot sets min and max to the actual min and max values of the output\n",
    "# plt_num: used to plot out multiple different weight feature map sets on the \n",
    "#        same block, just extend the plt number for each new feature map entry\n",
    "\n",
    "def outputFeatureMap(image_input, \n",
    "                     tf_activation, activation_min=-1, activation_max=-1 ,plt_num=1):\n",
    "    # Here make sure to preprocess your image_input in a way your network expects\n",
    "    # with size, normalization, ect if needed\n",
    "    image_input = normalize(image_input)\n",
    "    image_input = np.expand_dims(image_input, axis=0)\n",
    "    # Note: x should be the same name as your network's \n",
    "    #       tensorflow data placeholder\n",
    "    # If you get an error tf_activation is not defined it may be having trouble \n",
    "    # accessing the variable from inside a function\n",
    "    activation = tf_activation.eval(session=sess,feed_dict={features: image_input})\n",
    "    featuremaps = activation.shape[3]\n",
    "    plt.figure(plt_num, figsize=(20,20))\n",
    "    for featuremap in range(featuremaps):\n",
    "        # sets the number of feature maps to show on each row and column\n",
    "        plt.subplot(6,8, featuremap+1) \n",
    "        plt.title('FeatureMap ' + str(featuremap)) # displays the feature map number\n",
    "        if activation_min != -1 & activation_max != -1:\n",
    "            plt.imshow(activation[0,:,:, featuremap], interpolation=\"nearest\", \n",
    "                                vmin =activation_min, vmax=activation_max, cmap=\"gray\")\n",
    "        elif activation_max != -1:\n",
    "            plt.imshow(activation[0,:,:, featuremap],interpolation=\"nearest\",\n",
    "                                                      vmax=activation_max, cmap=\"gray\")\n",
    "        elif activation_min !=-1:\n",
    "            plt.imshow(activation[0,:,:, featuremap], interpolation=\"nearest\", \n",
    "                                                      vmin=activation_min, cmap=\"gray\")\n",
    "        else:\n",
    "            plt.imshow(activation[0,:,:, featuremap], interpolation=\"nearest\", \n",
    "                                                                           cmap=\"gray\")"
   ]
  },
  {
   "cell_type": "code",
   "execution_count": 136,
   "metadata": {},
   "outputs": [
    {
     "data": {
      "image/png": "[encoded data removed]",
      "text/plain": [
       "<matplotlib.figure.Figure at 0x11408e128>"
      ]
     },
     "metadata": {},
     "output_type": "display_data"
    }
   ],
   "source": [
    "with tf.Session() as sess:\n",
    "    saver.restore(sess, save_file)\n",
    "    outputFeatureMap(test_imgs_gray[8], conv2_bias)"
   ]
  },
  {
   "cell_type": "code",
   "execution_count": 139,
   "metadata": {},
   "outputs": [
    {
     "name": "stdout",
     "output_type": "stream",
     "text": [
      "Test Image Resembling the Activations / Feature Map\n"
     ]
    },
    {
     "data": {
      "text/plain": [
       "<matplotlib.image.AxesImage at 0x1129f0e48>"
      ]
     },
     "execution_count": 139,
     "metadata": {},
     "output_type": "execute_result"
    },
    {
     "data": {
      "image/png": "[encoded data removed]",
      "text/plain": [
       "<matplotlib.figure.Figure at 0x114056278>"
      ]
     },
     "metadata": {},
     "output_type": "display_data"
    }
   ],
   "source": [
    "print('Test Image Resembling the Activations / Feature Map')\n",
    "plt.imshow(test_imgs_gray[8].reshape(32,32), cmap='gray')"
   ]
  }
 ],
 "metadata": {
  "anaconda-cloud": {},
  "kernelspec": {
   "display_name": "Python 3",
   "language": "python",
   "name": "python3"
  },
  "language_info": {
   "codemirror_mode": {
    "name": "ipython",
    "version": 3
   },
   "file_extension": ".py",
   "mimetype": "text/x-python",
   "name": "python",
   "nbconvert_exporter": "python",
   "pygments_lexer": "ipython3",
   "version": "3.5.2"
  },
  "widgets": {
   "state": {},
   "version": "1.1.2"
  }
 },
 "nbformat": 4,
 "nbformat_minor": 1
}
